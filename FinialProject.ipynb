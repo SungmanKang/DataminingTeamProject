{
  "cells": [
    {
      "cell_type": "markdown",
      "metadata": {
        "id": "view-in-github",
        "colab_type": "text"
      },
      "source": [
        "<a href=\"https://colab.research.google.com/github/SungmanKang/DataminingTeamProject/blob/Sun/FinialProject.ipynb\" target=\"_parent\"><img src=\"https://colab.research.google.com/assets/colab-badge.svg\" alt=\"Open In Colab\"/></a>"
      ]
    },
    {
      "cell_type": "code",
      "execution_count": null,
      "metadata": {
        "id": "Hm9pR0aDRT8C"
      },
      "outputs": [],
      "source": [
        "import pandas as pd\n",
        "import numpy as np\n",
        "import matplotlib.pyplot as plt\n",
        "import seaborn as sns"
      ],
      "id": "Hm9pR0aDRT8C"
    },
    {
      "cell_type": "markdown",
      "metadata": {
        "id": "lJCYfWV8RT8D"
      },
      "source": [
        "# Import data"
      ],
      "id": "lJCYfWV8RT8D"
    },
    {
      "cell_type": "code",
      "execution_count": null,
      "metadata": {
        "id": "G8vTf_RJRT8E",
        "outputId": "86579790-1e8b-4850-d82b-3f06dc21478e"
      },
      "outputs": [
        {
          "data": {
            "text/html": [
              "<div>\n",
              "<style scoped>\n",
              "    .dataframe tbody tr th:only-of-type {\n",
              "        vertical-align: middle;\n",
              "    }\n",
              "\n",
              "    .dataframe tbody tr th {\n",
              "        vertical-align: top;\n",
              "    }\n",
              "\n",
              "    .dataframe thead th {\n",
              "        text-align: right;\n",
              "    }\n",
              "</style>\n",
              "<table border=\"1\" class=\"dataframe\">\n",
              "  <thead>\n",
              "    <tr style=\"text-align: right;\">\n",
              "      <th></th>\n",
              "      <th>Year</th>\n",
              "      <th>Month</th>\n",
              "      <th>day</th>\n",
              "      <th>temp_max</th>\n",
              "      <th>temp_avg</th>\n",
              "      <th>temp_min</th>\n",
              "      <th>dewp_max</th>\n",
              "      <th>dewp_avg</th>\n",
              "      <th>dewp_min</th>\n",
              "      <th>humi_max</th>\n",
              "      <th>...</th>\n",
              "      <th>wind_max</th>\n",
              "      <th>wind_avg</th>\n",
              "      <th>wind_min</th>\n",
              "      <th>pres_max</th>\n",
              "      <th>pres_avg</th>\n",
              "      <th>pres_min</th>\n",
              "      <th>prec</th>\n",
              "      <th>Time</th>\n",
              "      <th>DTR</th>\n",
              "      <th>weather</th>\n",
              "    </tr>\n",
              "  </thead>\n",
              "  <tbody>\n",
              "    <tr>\n",
              "      <th>732</th>\n",
              "      <td>2019</td>\n",
              "      <td>1</td>\n",
              "      <td>1</td>\n",
              "      <td>63</td>\n",
              "      <td>57.8</td>\n",
              "      <td>51</td>\n",
              "      <td>59</td>\n",
              "      <td>54.4</td>\n",
              "      <td>50</td>\n",
              "      <td>96</td>\n",
              "      <td>...</td>\n",
              "      <td>8</td>\n",
              "      <td>3.6</td>\n",
              "      <td>0</td>\n",
              "      <td>29.5</td>\n",
              "      <td>29.5</td>\n",
              "      <td>29.4</td>\n",
              "      <td>1.09</td>\n",
              "      <td>2019-1-1</td>\n",
              "      <td>12</td>\n",
              "      <td>Drizzle</td>\n",
              "    </tr>\n",
              "    <tr>\n",
              "      <th>733</th>\n",
              "      <td>2019</td>\n",
              "      <td>1</td>\n",
              "      <td>2</td>\n",
              "      <td>53</td>\n",
              "      <td>50.6</td>\n",
              "      <td>48</td>\n",
              "      <td>51</td>\n",
              "      <td>49.0</td>\n",
              "      <td>48</td>\n",
              "      <td>100</td>\n",
              "      <td>...</td>\n",
              "      <td>9</td>\n",
              "      <td>4.5</td>\n",
              "      <td>0</td>\n",
              "      <td>29.6</td>\n",
              "      <td>29.5</td>\n",
              "      <td>29.4</td>\n",
              "      <td>0.00</td>\n",
              "      <td>2019-1-2</td>\n",
              "      <td>5</td>\n",
              "      <td>Cloudy</td>\n",
              "    </tr>\n",
              "    <tr>\n",
              "      <th>734</th>\n",
              "      <td>2019</td>\n",
              "      <td>1</td>\n",
              "      <td>3</td>\n",
              "      <td>55</td>\n",
              "      <td>52.1</td>\n",
              "      <td>50</td>\n",
              "      <td>54</td>\n",
              "      <td>50.4</td>\n",
              "      <td>48</td>\n",
              "      <td>97</td>\n",
              "      <td>...</td>\n",
              "      <td>14</td>\n",
              "      <td>5.5</td>\n",
              "      <td>0</td>\n",
              "      <td>29.4</td>\n",
              "      <td>29.3</td>\n",
              "      <td>29.2</td>\n",
              "      <td>0.56</td>\n",
              "      <td>2019-1-3</td>\n",
              "      <td>5</td>\n",
              "      <td>Drizzle</td>\n",
              "    </tr>\n",
              "    <tr>\n",
              "      <th>735</th>\n",
              "      <td>2019</td>\n",
              "      <td>1</td>\n",
              "      <td>4</td>\n",
              "      <td>62</td>\n",
              "      <td>52.6</td>\n",
              "      <td>43</td>\n",
              "      <td>59</td>\n",
              "      <td>48.4</td>\n",
              "      <td>40</td>\n",
              "      <td>96</td>\n",
              "      <td>...</td>\n",
              "      <td>23</td>\n",
              "      <td>13.6</td>\n",
              "      <td>6</td>\n",
              "      <td>29.3</td>\n",
              "      <td>29.1</td>\n",
              "      <td>29.0</td>\n",
              "      <td>0.82</td>\n",
              "      <td>2019-1-4</td>\n",
              "      <td>19</td>\n",
              "      <td>Rain</td>\n",
              "    </tr>\n",
              "    <tr>\n",
              "      <th>736</th>\n",
              "      <td>2019</td>\n",
              "      <td>1</td>\n",
              "      <td>5</td>\n",
              "      <td>60</td>\n",
              "      <td>45.9</td>\n",
              "      <td>40</td>\n",
              "      <td>40</td>\n",
              "      <td>38.1</td>\n",
              "      <td>35</td>\n",
              "      <td>93</td>\n",
              "      <td>...</td>\n",
              "      <td>16</td>\n",
              "      <td>7.2</td>\n",
              "      <td>0</td>\n",
              "      <td>29.5</td>\n",
              "      <td>29.4</td>\n",
              "      <td>29.3</td>\n",
              "      <td>0.01</td>\n",
              "      <td>2019-1-5</td>\n",
              "      <td>20</td>\n",
              "      <td>Sun</td>\n",
              "    </tr>\n",
              "  </tbody>\n",
              "</table>\n",
              "<p>5 rows × 22 columns</p>\n",
              "</div>"
            ],
            "text/plain": [
              "     Year  Month  day  temp_max  temp_avg  temp_min  dewp_max  dewp_avg  \\\n",
              "732  2019      1    1        63      57.8        51        59      54.4   \n",
              "733  2019      1    2        53      50.6        48        51      49.0   \n",
              "734  2019      1    3        55      52.1        50        54      50.4   \n",
              "735  2019      1    4        62      52.6        43        59      48.4   \n",
              "736  2019      1    5        60      45.9        40        40      38.1   \n",
              "\n",
              "     dewp_min  humi_max  ...  wind_max  wind_avg  wind_min  pres_max  \\\n",
              "732        50        96  ...         8       3.6         0      29.5   \n",
              "733        48       100  ...         9       4.5         0      29.6   \n",
              "734        48        97  ...        14       5.5         0      29.4   \n",
              "735        40        96  ...        23      13.6         6      29.3   \n",
              "736        35        93  ...        16       7.2         0      29.5   \n",
              "\n",
              "     pres_avg  pres_min  prec      Time  DTR  weather  \n",
              "732      29.5      29.4  1.09  2019-1-1   12  Drizzle  \n",
              "733      29.5      29.4  0.00  2019-1-2    5   Cloudy  \n",
              "734      29.3      29.2  0.56  2019-1-3    5  Drizzle  \n",
              "735      29.1      29.0  0.82  2019-1-4   19     Rain  \n",
              "736      29.4      29.3  0.01  2019-1-5   20      Sun  \n",
              "\n",
              "[5 rows x 22 columns]"
            ]
          },
          "execution_count": 53,
          "metadata": {},
          "output_type": "execute_result"
        }
      ],
      "source": [
        "weather_data = pd.read_csv('weather3.csv',index_col=0)\n",
        "weather_data.head()"
      ],
      "id": "G8vTf_RJRT8E"
    },
    {
      "cell_type": "code",
      "execution_count": null,
      "metadata": {
        "id": "PQqXAfhsRT8E"
      },
      "outputs": [],
      "source": [
        "# Target is the last column\n",
        "Y = weather_data.iloc[:,-1].values\n",
        "X = weather_data[['temp_avg','dewp_avg','humi_avg','pres_avg','wind_avg','prec','DTR']].values"
      ],
      "id": "PQqXAfhsRT8E"
    },
    {
      "cell_type": "code",
      "execution_count": null,
      "metadata": {
        "id": "SCHXBcAVRT8F",
        "outputId": "02b32953-b20d-4d1b-be7f-884c62e554c2"
      },
      "outputs": [
        {
          "data": {
            "text/plain": [
              "array(['Cloudy', 'Drizzle', 'Rain', 'Sun', 'Cloudy', 'Sun', 'Sun', 'Sun',\n",
              "       'Sun'], dtype=object)"
            ]
          },
          "execution_count": 55,
          "metadata": {},
          "output_type": "execute_result"
        }
      ],
      "source": [
        "Y[1:10]"
      ],
      "id": "SCHXBcAVRT8F"
    },
    {
      "cell_type": "code",
      "execution_count": null,
      "metadata": {
        "id": "KDCeU4aWRT8F",
        "outputId": "7d31ae08-3596-4978-b350-cc25704cf53b"
      },
      "outputs": [
        {
          "data": {
            "text/plain": [
              "array([[57.8 , 54.4 , 88.6 , ...,  3.6 ,  1.09, 12.  ],\n",
              "       [50.6 , 49.  , 94.4 , ...,  4.5 ,  0.  ,  5.  ],\n",
              "       [52.1 , 50.4 , 94.  , ...,  5.5 ,  0.56,  5.  ],\n",
              "       ...,\n",
              "       [69.5 , 65.2 , 86.1 , ..., 12.2 ,  0.  , 12.  ],\n",
              "       [70.8 , 66.8 , 87.5 , ..., 11.5 ,  0.  , 11.  ],\n",
              "       [65.8 , 65.1 , 97.8 , ...,  2.7 ,  0.  , 19.  ]])"
            ]
          },
          "execution_count": 56,
          "metadata": {},
          "output_type": "execute_result"
        }
      ],
      "source": [
        "X"
      ],
      "id": "KDCeU4aWRT8F"
    },
    {
      "cell_type": "markdown",
      "metadata": {
        "id": "xCqGeTfxRT8F"
      },
      "source": [
        "# Data preprocessing"
      ],
      "id": "xCqGeTfxRT8F"
    },
    {
      "cell_type": "markdown",
      "metadata": {
        "id": "VmHrTMLbRT8F"
      },
      "source": [
        "### remove outliers"
      ],
      "id": "VmHrTMLbRT8F"
    },
    {
      "cell_type": "code",
      "execution_count": null,
      "metadata": {
        "id": "pLhQWsFkRT8F",
        "outputId": "2cd9d4d0-4de0-45d6-8486-a7f5e8402fac"
      },
      "outputs": [
        {
          "data": {
            "text/plain": [
              "<AxesSubplot:xlabel='DTR', ylabel='Count'>"
            ]
          },
          "execution_count": 57,
          "metadata": {},
          "output_type": "execute_result"
        },
        {
          "data": {
            "image/png": "[encoded data removed]",
            "text/plain": [
              "<Figure size 432x288 with 1 Axes>"
            ]
          },
          "metadata": {
            "needs_background": "light"
          },
          "output_type": "display_data"
        }
      ],
      "source": [
        "sns.histplot(kde=True, data=weather_data, x='DTR')\n"
      ],
      "id": "pLhQWsFkRT8F"
    },
    {
      "cell_type": "code",
      "execution_count": null,
      "metadata": {
        "id": "EeGhIldRRT8G"
      },
      "outputs": [],
      "source": [
        "weather_data = weather_data[weather_data['DTR'] <= 40]"
      ],
      "id": "EeGhIldRRT8G"
    },
    {
      "cell_type": "code",
      "execution_count": null,
      "metadata": {
        "id": "bo2HPNf_RT8G",
        "outputId": "8f5523d9-e37d-437d-e88c-7645887142c2"
      },
      "outputs": [
        {
          "data": {
            "text/plain": [
              "(870, 22)"
            ]
          },
          "execution_count": 59,
          "metadata": {},
          "output_type": "execute_result"
        }
      ],
      "source": [
        "weather_data.shape"
      ],
      "id": "bo2HPNf_RT8G"
    },
    {
      "cell_type": "code",
      "execution_count": null,
      "metadata": {
        "id": "Ro8mxrJWRT8G",
        "outputId": "6d89e689-1ce2-44f1-a3d0-b5b1c7551417"
      },
      "outputs": [
        {
          "data": {
            "text/plain": [
              "<AxesSubplot:xlabel='DTR', ylabel='Count'>"
            ]
          },
          "execution_count": 60,
          "metadata": {},
          "output_type": "execute_result"
        },
        {
          "data": {
            "image/png": "[encoded data removed]",
            "text/plain": [
              "<Figure size 432x288 with 1 Axes>"
            ]
          },
          "metadata": {
            "needs_background": "light"
          },
          "output_type": "display_data"
        }
      ],
      "source": [
        "sns.histplot(kde=True, data=weather_data, x='DTR')"
      ],
      "id": "Ro8mxrJWRT8G"
    },
    {
      "cell_type": "markdown",
      "metadata": {
        "id": "VLWkTrcfRT8G"
      },
      "source": [
        "### Splitting data into the training set and testing set"
      ],
      "id": "VLWkTrcfRT8G"
    },
    {
      "cell_type": "code",
      "execution_count": null,
      "metadata": {
        "id": "S330b-9zRT8H"
      },
      "outputs": [],
      "source": [
        "from sklearn.model_selection import train_test_split\n",
        "X_train,X_test,Y_train,Y_test = train_test_split(X,Y,test_size = 0.2, random_state=1)"
      ],
      "id": "S330b-9zRT8H"
    },
    {
      "cell_type": "code",
      "execution_count": null,
      "metadata": {
        "id": "XGIrLkB0RT8H",
        "outputId": "b757fd27-521f-46a9-e0f7-50b609edeedd"
      },
      "outputs": [
        {
          "name": "stdout",
          "output_type": "stream",
          "text": [
            "[[63.1  57.5  82.5  ...  7.7   0.   21.  ]\n",
            " [71.3  65.3  81.8  ...  6.7   0.   13.  ]\n",
            " [79.   72.5  80.6  ... 10.6   0.15  9.  ]\n",
            " ...\n",
            " [56.9  36.8  49.1  ...  4.    0.   32.  ]\n",
            " [70.5  64.8  82.7  ...  8.9   0.   10.  ]\n",
            " [51.9  33.1  51.8  ...  8.4   0.   22.  ]]\n"
          ]
        }
      ],
      "source": [
        "print(X_train)"
      ],
      "id": "XGIrLkB0RT8H"
    },
    {
      "cell_type": "code",
      "execution_count": null,
      "metadata": {
        "id": "u-0spwzDRT8H",
        "outputId": "83ef70c9-8961-4400-ae83-797fb92980ec"
      },
      "outputs": [
        {
          "name": "stdout",
          "output_type": "stream",
          "text": [
            "['Sun' 'Sun' 'Drizzle' 'Rain' 'Sun' 'Cloudy' 'Sun' 'Drizzle' 'Rain' 'Sun'\n",
            " 'Cloudy' 'Sun' 'Cloudy' 'Sun' 'Drizzle' 'Drizzle' 'Cloudy' 'Cloudy' 'Sun'\n",
            " 'Sun' 'Drizzle' 'Sun' 'Sun' 'Drizzle' 'Sun' 'Cloudy' 'Drizzle' 'Sun'\n",
            " 'Sun' 'Rain' 'Rain' 'Drizzle' 'Rain' 'Rain' 'Cloudy' 'Drizzle' 'Drizzle'\n",
            " 'Rain' 'Cloudy' 'Sun' 'Drizzle' 'Cloudy' 'Sun' 'Sun' 'Drizzle' 'Drizzle'\n",
            " 'Sun' 'Sun' 'Drizzle' 'Sun' 'Drizzle' 'Sun' 'Cloudy' 'Drizzle' 'Sun'\n",
            " 'Sun' 'Cloudy' 'Drizzle' 'Rain' 'Sun' 'Drizzle' 'Sun' 'Cloudy' 'Sun'\n",
            " 'Sun' 'Cloudy' 'Drizzle' 'Cloudy' 'Rain' 'Rain' 'Sun' 'Drizzle' 'Drizzle'\n",
            " 'Cloudy' 'Sun' 'Cloudy' 'Drizzle' 'Sun' 'Drizzle' 'Rain' 'Cloudy' 'Sun'\n",
            " 'Cloudy' 'Cloudy' 'Cloudy' 'Cloudy' 'Rain' 'Drizzle' 'Sun' 'Cloudy'\n",
            " 'Drizzle' 'Cloudy' 'Cloudy' 'Rain' 'Sun' 'Sun' 'Rain' 'Sun' 'Drizzle'\n",
            " 'Sun' 'Rain' 'Sun' 'Cloudy' 'Sun' 'Sun' 'Rain' 'Cloudy' 'Drizzle'\n",
            " 'Drizzle' 'Drizzle' 'Drizzle' 'Sun' 'Cloudy' 'Cloudy' 'Cloudy' 'Sun'\n",
            " 'Sun' 'Cloudy' 'Sun' 'Drizzle' 'Drizzle' 'Sun' 'Cloudy' 'Drizzle' 'Sun'\n",
            " 'Cloudy' 'Cloudy' 'Sun' 'Sun' 'Drizzle' 'Cloudy' 'Cloudy' 'Sun' 'Sun'\n",
            " 'Rain' 'Cloudy' 'Drizzle' 'Cloudy' 'Cloudy' 'Drizzle' 'Drizzle' 'Cloudy'\n",
            " 'Drizzle' 'Cloudy' 'Drizzle' 'Sun' 'Sun' 'Drizzle' 'Sun' 'Cloudy' 'Rain'\n",
            " 'Drizzle' 'Cloudy' 'Cloudy' 'Drizzle' 'Sun' 'Cloudy' 'Drizzle' 'Sun'\n",
            " 'Drizzle' 'Cloudy' 'Cloudy' 'Cloudy' 'Drizzle' 'Rain' 'Sun' 'Cloudy'\n",
            " 'Sun' 'Cloudy' 'Sun' 'Cloudy' 'Cloudy' 'Sun' 'Drizzle' 'Cloudy' 'Sun'\n",
            " 'Cloudy' 'Drizzle' 'Cloudy' 'Drizzle' 'Sun' 'Sun' 'Rain' 'Sun' 'Cloudy'\n",
            " 'Cloudy' 'Cloudy' 'Drizzle' 'Cloudy' 'Sun' 'Cloudy' 'Rain' 'Sun' 'Cloudy'\n",
            " 'Cloudy' 'Drizzle' 'Rain' 'Sun' 'Cloudy' 'Cloudy' 'Sun' 'Sun' 'Sun'\n",
            " 'Drizzle' 'Sun' 'Drizzle' 'Sun' 'Sun' 'Sun' 'Sun' 'Cloudy' 'Cloudy' 'Sun'\n",
            " 'Sun' 'Sun' 'Rain' 'Drizzle' 'Drizzle' 'Sun' 'Drizzle' 'Sun' 'Cloudy'\n",
            " 'Rain' 'Rain' 'Cloudy' 'Sun' 'Drizzle' 'Sun' 'Drizzle' 'Drizzle' 'Cloudy'\n",
            " 'Rain' 'Drizzle' 'Sun' 'Sun' 'Cloudy' 'Sun' 'Cloudy' 'Rain' 'Sun' 'Sun'\n",
            " 'Cloudy' 'Cloudy' 'Cloudy' 'Sun' 'Cloudy' 'Rain' 'Rain' 'Cloudy' 'Cloudy'\n",
            " 'Rain' 'Sun' 'Cloudy' 'Rain' 'Cloudy' 'Drizzle' 'Cloudy' 'Rain' 'Cloudy'\n",
            " 'Sun' 'Drizzle' 'Rain' 'Cloudy' 'Rain' 'Cloudy' 'Rain' 'Rain' 'Sun'\n",
            " 'Cloudy' 'Rain' 'Cloudy' 'Rain' 'Drizzle' 'Cloudy' 'Sun' 'Sun' 'Cloudy'\n",
            " 'Drizzle' 'Rain' 'Cloudy' 'Cloudy' 'Sun' 'Sun' 'Cloudy' 'Rain' 'Sun'\n",
            " 'Sun' 'Drizzle' 'Cloudy' 'Cloudy' 'Sun' 'Drizzle' 'Sun' 'Rain' 'Rain'\n",
            " 'Drizzle' 'Sun' 'Sun' 'Sun' 'Cloudy' 'Sun' 'Drizzle' 'Sun' 'Sun' 'Rain'\n",
            " 'Cloudy' 'Drizzle' 'Cloudy' 'Sun' 'Cloudy' 'Sun' 'Cloudy' 'Cloudy' 'Rain'\n",
            " 'Cloudy' 'Drizzle' 'Cloudy' 'Sun' 'Cloudy' 'Rain' 'Sun' 'Sun' 'Sun' 'Sun'\n",
            " 'Cloudy' 'Rain' 'Sun' 'Sun' 'Drizzle' 'Rain' 'Sun' 'Rain' 'Drizzle'\n",
            " 'Cloudy' 'Cloudy' 'Drizzle' 'Cloudy' 'Cloudy' 'Cloudy' 'Sun' 'Rain'\n",
            " 'Cloudy' 'Drizzle' 'Drizzle' 'Sun' 'Sun' 'Rain' 'Sun' 'Rain' 'Drizzle'\n",
            " 'Rain' 'Cloudy' 'Sun' 'Drizzle' 'Cloudy' 'Drizzle' 'Rain' 'Rain' 'Rain'\n",
            " 'Cloudy' 'Rain' 'Sun' 'Sun' 'Rain' 'Sun' 'Drizzle' 'Sun' 'Sun' 'Cloudy'\n",
            " 'Sun' 'Drizzle' 'Drizzle' 'Cloudy' 'Sun' 'Cloudy' 'Sun' 'Sun' 'Cloudy'\n",
            " 'Drizzle' 'Drizzle' 'Cloudy' 'Sun' 'Sun' 'Sun' 'Cloudy' 'Drizzle' 'Sun'\n",
            " 'Sun' 'Sun' 'Cloudy' 'Cloudy' 'Sun' 'Rain' 'Drizzle' 'Cloudy' 'Rain'\n",
            " 'Rain' 'Drizzle' 'Rain' 'Rain' 'Drizzle' 'Drizzle' 'Sun' 'Drizzle' 'Sun'\n",
            " 'Cloudy' 'Drizzle' 'Cloudy' 'Cloudy' 'Cloudy' 'Sun' 'Sun' 'Cloudy'\n",
            " 'Cloudy' 'Sun' 'Rain' 'Sun' 'Cloudy' 'Drizzle' 'Cloudy' 'Sun' 'Cloudy'\n",
            " 'Drizzle' 'Sun' 'Sun' 'Sun' 'Sun' 'Drizzle' 'Rain' 'Sun' 'Sun' 'Drizzle'\n",
            " 'Sun' 'Cloudy' 'Sun' 'Cloudy' 'Sun' 'Cloudy' 'Rain' 'Sun' 'Drizzle'\n",
            " 'Rain' 'Rain' 'Sun' 'Drizzle' 'Cloudy' 'Cloudy' 'Rain' 'Rain' 'Sun'\n",
            " 'Cloudy' 'Cloudy' 'Rain' 'Rain' 'Cloudy' 'Rain' 'Sun' 'Rain' 'Drizzle'\n",
            " 'Sun' 'Sun' 'Sun' 'Sun' 'Sun' 'Drizzle' 'Drizzle' 'Cloudy' 'Cloudy'\n",
            " 'Drizzle' 'Rain' 'Cloudy' 'Sun' 'Rain' 'Cloudy' 'Rain' 'Sun' 'Drizzle'\n",
            " 'Drizzle' 'Drizzle' 'Rain' 'Rain' 'Sun' 'Sun' 'Cloudy' 'Sun' 'Sun' 'Sun'\n",
            " 'Cloudy' 'Sun' 'Cloudy' 'Drizzle' 'Cloudy' 'Rain' 'Rain' 'Drizzle'\n",
            " 'Cloudy' 'Drizzle' 'Cloudy' 'Cloudy' 'Cloudy' 'Rain' 'Sun' 'Cloudy'\n",
            " 'Drizzle' 'Sun' 'Sun' 'Sun' 'Rain' 'Cloudy' 'Rain' 'Cloudy' 'Cloudy'\n",
            " 'Cloudy' 'Drizzle' 'Cloudy' 'Cloudy' 'Drizzle' 'Drizzle' 'Sun' 'Sun'\n",
            " 'Rain' 'Sun' 'Cloudy' 'Drizzle' 'Cloudy' 'Sun' 'Sun' 'Cloudy' 'Rain'\n",
            " 'Sun' 'Cloudy' 'Sun' 'Sun' 'Drizzle' 'Drizzle' 'Cloudy' 'Sun' 'Drizzle'\n",
            " 'Cloudy' 'Drizzle' 'Rain' 'Sun' 'Cloudy' 'Cloudy' 'Cloudy' 'Sun' 'Sun'\n",
            " 'Sun' 'Cloudy' 'Cloudy' 'Sun' 'Rain' 'Sun' 'Sun' 'Drizzle' 'Cloudy' 'Sun'\n",
            " 'Sun' 'Rain' 'Rain' 'Drizzle' 'Cloudy' 'Rain' 'Sun' 'Drizzle' 'Drizzle'\n",
            " 'Sun' 'Sun' 'Drizzle' 'Rain' 'Cloudy' 'Cloudy' 'Drizzle' 'Sun' 'Sun'\n",
            " 'Cloudy' 'Cloudy' 'Drizzle' 'Rain' 'Cloudy' 'Sun' 'Sun' 'Cloudy' 'Rain'\n",
            " 'Cloudy' 'Drizzle' 'Sun' 'Drizzle' 'Cloudy' 'Sun' 'Cloudy' 'Sun'\n",
            " 'Drizzle' 'Cloudy' 'Cloudy' 'Sun' 'Cloudy' 'Sun' 'Drizzle' 'Drizzle'\n",
            " 'Rain' 'Sun' 'Cloudy' 'Sun' 'Cloudy' 'Cloudy' 'Rain' 'Cloudy' 'Sun'\n",
            " 'Rain' 'Cloudy' 'Sun' 'Cloudy' 'Rain' 'Rain' 'Cloudy' 'Drizzle' 'Rain'\n",
            " 'Rain' 'Cloudy' 'Rain' 'Sun' 'Cloudy' 'Cloudy' 'Cloudy' 'Rain' 'Drizzle'\n",
            " 'Cloudy' 'Sun' 'Sun' 'Rain' 'Cloudy' 'Cloudy' 'Cloudy' 'Rain' 'Sun'\n",
            " 'Drizzle' 'Cloudy' 'Rain' 'Sun' 'Sun' 'Cloudy' 'Drizzle' 'Rain' 'Rain'\n",
            " 'Drizzle' 'Cloudy' 'Sun' 'Cloudy' 'Cloudy' 'Cloudy' 'Drizzle' 'Cloudy'\n",
            " 'Cloudy' 'Rain' 'Drizzle' 'Sun' 'Cloudy' 'Cloudy' 'Sun' 'Cloudy'\n",
            " 'Drizzle' 'Sun' 'Sun' 'Sun' 'Sun' 'Rain' 'Sun' 'Drizzle' 'Rain' 'Rain'\n",
            " 'Sun' 'Rain' 'Drizzle' 'Drizzle' 'Cloudy' 'Sun' 'Sun' 'Drizzle' 'Cloudy'\n",
            " 'Sun' 'Cloudy' 'Rain' 'Drizzle' 'Sun' 'Cloudy' 'Rain' 'Sun' 'Sun' 'Sun'\n",
            " 'Cloudy' 'Drizzle' 'Sun' 'Cloudy' 'Drizzle' 'Sun' 'Sun' 'Cloudy' 'Sun'\n",
            " 'Sun']\n"
          ]
        }
      ],
      "source": [
        "print(Y_train)"
      ],
      "id": "u-0spwzDRT8H"
    },
    {
      "cell_type": "markdown",
      "metadata": {
        "id": "TIvkarpJRT8H"
      },
      "source": [
        "### Feature Scaling\n",
        "#### (x-mean(x))/standard deviation(x)"
      ],
      "id": "TIvkarpJRT8H"
    },
    {
      "cell_type": "code",
      "execution_count": null,
      "metadata": {
        "id": "uRZ8IPIeRT8H"
      },
      "outputs": [],
      "source": [
        "from sklearn.preprocessing import StandardScaler\n",
        "sc = StandardScaler()\n",
        "X_train = sc.fit_transform(X_train)\n",
        "X_test = sc.fit_transform(X_test)"
      ],
      "id": "uRZ8IPIeRT8H"
    },
    {
      "cell_type": "code",
      "execution_count": null,
      "metadata": {
        "id": "z6RH2-dyRT8I",
        "outputId": "d511905a-7cf4-4a81-b963-5c61c324423a"
      },
      "outputs": [
        {
          "name": "stdout",
          "output_type": "stream",
          "text": [
            "[[ 0.792171    0.80270911  0.20026554 ... -0.57858795 -0.47528183\n",
            "  -0.32930541]\n",
            " [ 0.51456948  0.96148922  1.41968632 ...  1.94852248 -0.47528183\n",
            "  -1.41891888]\n",
            " [ 0.80640697  0.96148922  0.6991195  ... -0.71336717 -0.25834307\n",
            "   0.27603541]\n",
            " ...\n",
            " [ 0.79928898  0.56453893 -0.44903643 ... -0.71336717 -0.47528183\n",
            "   0.51817174]\n",
            " [ 0.95588471  1.02103177  0.42989673 ... -0.71336717 -0.4102002\n",
            "  -0.32930541]\n",
            " [-2.37533344 -1.73115694  1.24548336 ... -1.18509445 -0.47528183\n",
            "  -0.32930541]]\n"
          ]
        }
      ],
      "source": [
        "print(X_test)"
      ],
      "id": "z6RH2-dyRT8I"
    },
    {
      "cell_type": "markdown",
      "metadata": {
        "id": "iTLz1yBLRT8I"
      },
      "source": [
        "### Different models"
      ],
      "id": "iTLz1yBLRT8I"
    },
    {
      "cell_type": "code",
      "execution_count": null,
      "metadata": {
        "id": "XJ4MDINlRT8I"
      },
      "outputs": [],
      "source": [
        "from sklearn.model_selection import train_test_split\n",
        "from sklearn.linear_model import LogisticRegression\n",
        "from sklearn.ensemble import RandomForestClassifier\n",
        "from sklearn.ensemble import GradientBoostingClassifier\n",
        "from sklearn.tree import DecisionTreeClassifier\n",
        "from sklearn.svm import SVC\n",
        "from sklearn.neighbors import KNeighborsClassifier\n",
        "from sklearn.naive_bayes import GaussianNB\n",
        "from xgboost import XGBClassifier"
      ],
      "id": "XJ4MDINlRT8I"
    },
    {
      "cell_type": "code",
      "execution_count": null,
      "metadata": {
        "id": "sSB4zhqDRT8I"
      },
      "outputs": [],
      "source": [
        "classifier_lr = LogisticRegression(random_state=0)\n",
        "classifier_rf = RandomForestClassifier(n_estimators=20, random_state=0, criterion='entropy')\n",
        "classifier_gbc = GradientBoostingClassifier(random_state=0)\n",
        "classifier_dt = DecisionTreeClassifier(criterion=\"entropy\", random_state=0)\n",
        "classifier_svc = SVC(kernel='rbf',random_state=0, probability=True)\n",
        "classifier_knn = KNeighborsClassifier(n_neighbors=10, metric='minkowski',p=2)\n",
        "classifier_nbc = GaussianNB()\n",
        "classifier_xgb = XGBClassifier()"
      ],
      "id": "sSB4zhqDRT8I"
    },
    {
      "cell_type": "code",
      "execution_count": null,
      "metadata": {
        "id": "J7bTlwv9RT8J",
        "outputId": "1ea02ba1-0d7e-4c30-f28b-d5016d6748ee"
      },
      "outputs": [
        {
          "name": "stdout",
          "output_type": "stream",
          "text": [
            "[21:04:48] WARNING: ../src/learner.cc:1115: Starting in XGBoost 1.3.0, the default evaluation metric used with the objective 'multi:softprob' was changed from 'merror' to 'mlogloss'. Explicitly set eval_metric if you'd like to restore the old behavior.\n"
          ]
        },
        {
          "name": "stderr",
          "output_type": "stream",
          "text": [
            "/Users/yiqing/Anaconda/anaconda3/envs/coursera/lib/python3.8/site-packages/xgboost/sklearn.py:1224: UserWarning: The use of label encoder in XGBClassifier is deprecated and will be removed in a future release. To remove this warning, do the following: 1) Pass option use_label_encoder=False when constructing XGBClassifier object; and 2) Encode your labels (y) as integers starting with 0, i.e. 0, 1, 2, ..., [num_class - 1].\n",
            "  warnings.warn(label_encoder_deprecation_msg, UserWarning)\n"
          ]
        }
      ],
      "source": [
        "Y_pred_lr = classifier_lr.fit(X_train,Y_train).predict(X_test)\n",
        "Y_pred_rf = classifier_rf.fit(X_train, Y_train).predict(X_test)\n",
        "Y_pred_gbc = classifier_gbc.fit(X_train, Y_train).predict(X_test)\n",
        "Y_pred_dt = classifier_dt.fit(X_train,Y_train).predict(X_test)\n",
        "Y_pred_svc = classifier_svc.fit(X_train, Y_train).predict(X_test)\n",
        "Y_pred_knn = classifier_knn.fit(X_train, Y_train).predict(X_test)\n",
        "Y_pred_nbc = classifier_nbc.fit(X_train, Y_train).predict(X_test)\n",
        "Y_pred_xgb = classifier_xgb.fit(X_train, Y_train).predict(X_test)"
      ],
      "id": "J7bTlwv9RT8J"
    },
    {
      "cell_type": "markdown",
      "metadata": {
        "id": "w9xLKJcdRT8J"
      },
      "source": [
        "### Making confusion matrix"
      ],
      "id": "w9xLKJcdRT8J"
    },
    {
      "cell_type": "code",
      "execution_count": null,
      "metadata": {
        "id": "AgnEntKDRT8J"
      },
      "outputs": [],
      "source": [
        "from sklearn.metrics import confusion_matrix, accuracy_score"
      ],
      "id": "AgnEntKDRT8J"
    },
    {
      "cell_type": "code",
      "execution_count": null,
      "metadata": {
        "id": "KYTNHfmNRT8J",
        "outputId": "d12816fd-ba82-4769-9687-c214eedbc760"
      },
      "outputs": [
        {
          "name": "stdout",
          "output_type": "stream",
          "text": [
            "LogisticRregression\n",
            " [[31  3  4 15]\n",
            " [ 0 21 10  0]\n",
            " [ 0  8 14  0]\n",
            " [23  9  3 34]]\n",
            "RandomForest\n",
            " [[40  1  1 17]\n",
            " [ 0 25 13  0]\n",
            " [ 0  9 15  0]\n",
            " [14  6  2 32]]\n",
            "GradientBoostingClassifier\n",
            " [[40  1  0 14]\n",
            " [ 0 21 10  0]\n",
            " [ 0 13 18  0]\n",
            " [14  6  3 35]]\n",
            "DecisionTreeClassifier\n",
            " [[33  1  0 14]\n",
            " [ 0 20 12  0]\n",
            " [ 0 14 16  0]\n",
            " [21  6  3 35]]\n",
            "SupportingVectorClassifer\n",
            " [[46  4  5 16]\n",
            " [ 0 19  9  1]\n",
            " [ 0  9 14  0]\n",
            " [ 8  9  3 32]]\n",
            "KNeighborsClassifer\n",
            " [[48  5  7 19]\n",
            " [ 1 18  7  2]\n",
            " [ 0  9 13  0]\n",
            " [ 5  9  4 28]]\n",
            "NaiveBayesClassifer\n",
            " [[ 0  1  1  0]\n",
            " [54 31 18 48]\n",
            " [ 0  7 12  1]\n",
            " [ 0  2  0  0]]\n",
            "XGBoostClassifier\n",
            " [[35  1  0 13]\n",
            " [ 0 20 12  0]\n",
            " [ 0 14 16  0]\n",
            " [19  6  3 36]]\n"
          ]
        }
      ],
      "source": [
        "print('LogisticRregression\\n',confusion_matrix(Y_pred_lr,Y_test))\n",
        "print('RandomForest\\n', confusion_matrix(Y_pred_rf,Y_test))\n",
        "print('GradientBoostingClassifier\\n', confusion_matrix(Y_pred_gbc, Y_test))\n",
        "print('DecisionTreeClassifier\\n',confusion_matrix(Y_pred_dt,Y_test))\n",
        "print('SupportingVectorClassifer\\n', confusion_matrix(Y_pred_svc,Y_test))\n",
        "print('KNeighborsClassifer\\n', confusion_matrix(Y_pred_knn, Y_test))\n",
        "print('NaiveBayesClassifer\\n',confusion_matrix(Y_pred_nbc,Y_test))\n",
        "print('XGBoostClassifier\\n', confusion_matrix(Y_pred_xgb,Y_test))"
      ],
      "id": "KYTNHfmNRT8J"
    },
    {
      "cell_type": "code",
      "execution_count": null,
      "metadata": {
        "id": "NqLsBRwqRT8K"
      },
      "outputs": [],
      "source": [
        ""
      ],
      "id": "NqLsBRwqRT8K"
    },
    {
      "cell_type": "code",
      "execution_count": null,
      "metadata": {
        "id": "ZVtokjw0RT8K"
      },
      "outputs": [],
      "source": [
        ""
      ],
      "id": "ZVtokjw0RT8K"
    },
    {
      "cell_type": "markdown",
      "metadata": {
        "id": "5XH9V00LRT8K"
      },
      "source": [
        "### Accuracy"
      ],
      "id": "5XH9V00LRT8K"
    },
    {
      "cell_type": "code",
      "execution_count": null,
      "metadata": {
        "id": "Q3ahJJvXRT8K",
        "outputId": "634b4309-3c53-45b4-ce72-9cb1d2e4783a"
      },
      "outputs": [
        {
          "name": "stdout",
          "output_type": "stream",
          "text": [
            "LogReg Accuracy = 0.57\n",
            "RandFor Accuracy = 0.64\n",
            "GBC Accuracy = 0.65\n",
            "DT Accuracy = 0.59\n",
            "SVC Accuracy = 0.63\n",
            "KNN Accuracy = 0.61\n",
            "NBC Accuracy = 0.25\n",
            "XGBoost Accuracy = 0.61\n"
          ]
        }
      ],
      "source": [
        "print('LogReg Accuracy = {:.2f}'.format(accuracy_score(Y_test,Y_pred_lr)))\n",
        "print('RandFor Accuracy = {:.2f}'.format(accuracy_score(Y_test,Y_pred_rf)))\n",
        "print('GBC Accuracy = {:.2f}'.format(accuracy_score(Y_test,Y_pred_gbc)))\n",
        "print('DT Accuracy = {:.2f}'.format(accuracy_score(Y_test,Y_pred_dt)))\n",
        "print('SVC Accuracy = {:.2f}'.format(accuracy_score(Y_test,Y_pred_svc)))\n",
        "print('KNN Accuracy = {:.2f}'.format(accuracy_score(Y_test,Y_pred_knn)))\n",
        "print('NBC Accuracy = {:.2f}'.format(accuracy_score(Y_test,Y_pred_nbc)))\n",
        "print('XGBoost Accuracy = {:.2f}'.format(accuracy_score(Y_test,Y_pred_xgb)))"
      ],
      "id": "Q3ahJJvXRT8K"
    },
    {
      "cell_type": "markdown",
      "metadata": {
        "id": "kSr5eWGwRT8K"
      },
      "source": [
        "### Applying k-fold Cross Validation"
      ],
      "id": "kSr5eWGwRT8K"
    },
    {
      "cell_type": "code",
      "execution_count": null,
      "metadata": {
        "id": "tK6oN6VQRT8K",
        "outputId": "a2b3b6ec-8d05-45f1-e24b-c0fd5f2e6b65"
      },
      "outputs": [
        {
          "name": "stderr",
          "output_type": "stream",
          "text": [
            "/Users/yiqing/Anaconda/anaconda3/envs/coursera/lib/python3.8/site-packages/xgboost/sklearn.py:1224: UserWarning: The use of label encoder in XGBClassifier is deprecated and will be removed in a future release. To remove this warning, do the following: 1) Pass option use_label_encoder=False when constructing XGBClassifier object; and 2) Encode your labels (y) as integers starting with 0, i.e. 0, 1, 2, ..., [num_class - 1].\n",
            "  warnings.warn(label_encoder_deprecation_msg, UserWarning)\n",
            "/Users/yiqing/Anaconda/anaconda3/envs/coursera/lib/python3.8/site-packages/xgboost/sklearn.py:1224: UserWarning: The use of label encoder in XGBClassifier is deprecated and will be removed in a future release. To remove this warning, do the following: 1) Pass option use_label_encoder=False when constructing XGBClassifier object; and 2) Encode your labels (y) as integers starting with 0, i.e. 0, 1, 2, ..., [num_class - 1].\n",
            "  warnings.warn(label_encoder_deprecation_msg, UserWarning)\n"
          ]
        },
        {
          "name": "stdout",
          "output_type": "stream",
          "text": [
            "[21:04:59] WARNING: ../src/learner.cc:1115: Starting in XGBoost 1.3.0, the default evaluation metric used with the objective 'multi:softprob' was changed from 'merror' to 'mlogloss'. Explicitly set eval_metric if you'd like to restore the old behavior.\n",
            "[21:04:59] WARNING: ../src/learner.cc:1115: Starting in XGBoost 1.3.0, the default evaluation metric used with the objective 'multi:softprob' was changed from 'merror' to 'mlogloss'. Explicitly set eval_metric if you'd like to restore the old behavior.\n"
          ]
        },
        {
          "name": "stderr",
          "output_type": "stream",
          "text": [
            "/Users/yiqing/Anaconda/anaconda3/envs/coursera/lib/python3.8/site-packages/xgboost/sklearn.py:1224: UserWarning: The use of label encoder in XGBClassifier is deprecated and will be removed in a future release. To remove this warning, do the following: 1) Pass option use_label_encoder=False when constructing XGBClassifier object; and 2) Encode your labels (y) as integers starting with 0, i.e. 0, 1, 2, ..., [num_class - 1].\n",
            "  warnings.warn(label_encoder_deprecation_msg, UserWarning)\n"
          ]
        },
        {
          "name": "stdout",
          "output_type": "stream",
          "text": [
            "[21:05:00] WARNING: ../src/learner.cc:1115: Starting in XGBoost 1.3.0, the default evaluation metric used with the objective 'multi:softprob' was changed from 'merror' to 'mlogloss'. Explicitly set eval_metric if you'd like to restore the old behavior.\n"
          ]
        },
        {
          "name": "stderr",
          "output_type": "stream",
          "text": [
            "/Users/yiqing/Anaconda/anaconda3/envs/coursera/lib/python3.8/site-packages/xgboost/sklearn.py:1224: UserWarning: The use of label encoder in XGBClassifier is deprecated and will be removed in a future release. To remove this warning, do the following: 1) Pass option use_label_encoder=False when constructing XGBClassifier object; and 2) Encode your labels (y) as integers starting with 0, i.e. 0, 1, 2, ..., [num_class - 1].\n",
            "  warnings.warn(label_encoder_deprecation_msg, UserWarning)\n"
          ]
        },
        {
          "name": "stdout",
          "output_type": "stream",
          "text": [
            "[21:05:00] WARNING: ../src/learner.cc:1115: Starting in XGBoost 1.3.0, the default evaluation metric used with the objective 'multi:softprob' was changed from 'merror' to 'mlogloss'. Explicitly set eval_metric if you'd like to restore the old behavior.\n"
          ]
        },
        {
          "name": "stderr",
          "output_type": "stream",
          "text": [
            "/Users/yiqing/Anaconda/anaconda3/envs/coursera/lib/python3.8/site-packages/xgboost/sklearn.py:1224: UserWarning: The use of label encoder in XGBClassifier is deprecated and will be removed in a future release. To remove this warning, do the following: 1) Pass option use_label_encoder=False when constructing XGBClassifier object; and 2) Encode your labels (y) as integers starting with 0, i.e. 0, 1, 2, ..., [num_class - 1].\n",
            "  warnings.warn(label_encoder_deprecation_msg, UserWarning)\n",
            "/Users/yiqing/Anaconda/anaconda3/envs/coursera/lib/python3.8/site-packages/xgboost/sklearn.py:1224: UserWarning: The use of label encoder in XGBClassifier is deprecated and will be removed in a future release. To remove this warning, do the following: 1) Pass option use_label_encoder=False when constructing XGBClassifier object; and 2) Encode your labels (y) as integers starting with 0, i.e. 0, 1, 2, ..., [num_class - 1].\n",
            "  warnings.warn(label_encoder_deprecation_msg, UserWarning)\n"
          ]
        },
        {
          "name": "stdout",
          "output_type": "stream",
          "text": [
            "[21:05:00] WARNING: ../src/learner.cc:1115: Starting in XGBoost 1.3.0, the default evaluation metric used with the objective 'multi:softprob' was changed from 'merror' to 'mlogloss'. Explicitly set eval_metric if you'd like to restore the old behavior.\n",
            "[21:05:00] WARNING: ../src/learner.cc:1115: Starting in XGBoost 1.3.0, the default evaluation metric used with the objective 'multi:softprob' was changed from 'merror' to 'mlogloss'. Explicitly set eval_metric if you'd like to restore the old behavior.\n"
          ]
        },
        {
          "name": "stderr",
          "output_type": "stream",
          "text": [
            "/Users/yiqing/Anaconda/anaconda3/envs/coursera/lib/python3.8/site-packages/xgboost/sklearn.py:1224: UserWarning: The use of label encoder in XGBClassifier is deprecated and will be removed in a future release. To remove this warning, do the following: 1) Pass option use_label_encoder=False when constructing XGBClassifier object; and 2) Encode your labels (y) as integers starting with 0, i.e. 0, 1, 2, ..., [num_class - 1].\n",
            "  warnings.warn(label_encoder_deprecation_msg, UserWarning)\n",
            "/Users/yiqing/Anaconda/anaconda3/envs/coursera/lib/python3.8/site-packages/xgboost/sklearn.py:1224: UserWarning: The use of label encoder in XGBClassifier is deprecated and will be removed in a future release. To remove this warning, do the following: 1) Pass option use_label_encoder=False when constructing XGBClassifier object; and 2) Encode your labels (y) as integers starting with 0, i.e. 0, 1, 2, ..., [num_class - 1].\n",
            "  warnings.warn(label_encoder_deprecation_msg, UserWarning)\n"
          ]
        },
        {
          "name": "stdout",
          "output_type": "stream",
          "text": [
            "[21:05:00] WARNING: ../src/learner.cc:1115: Starting in XGBoost 1.3.0, the default evaluation metric used with the objective 'multi:softprob' was changed from 'merror' to 'mlogloss'. Explicitly set eval_metric if you'd like to restore the old behavior.\n",
            "[21:05:00] WARNING: ../src/learner.cc:1115: Starting in XGBoost 1.3.0, the default evaluation metric used with the objective 'multi:softprob' was changed from 'merror' to 'mlogloss'. Explicitly set eval_metric if you'd like to restore the old behavior.\n"
          ]
        },
        {
          "name": "stderr",
          "output_type": "stream",
          "text": [
            "/Users/yiqing/Anaconda/anaconda3/envs/coursera/lib/python3.8/site-packages/xgboost/sklearn.py:1224: UserWarning: The use of label encoder in XGBClassifier is deprecated and will be removed in a future release. To remove this warning, do the following: 1) Pass option use_label_encoder=False when constructing XGBClassifier object; and 2) Encode your labels (y) as integers starting with 0, i.e. 0, 1, 2, ..., [num_class - 1].\n",
            "  warnings.warn(label_encoder_deprecation_msg, UserWarning)\n",
            "/Users/yiqing/Anaconda/anaconda3/envs/coursera/lib/python3.8/site-packages/xgboost/sklearn.py:1224: UserWarning: The use of label encoder in XGBClassifier is deprecated and will be removed in a future release. To remove this warning, do the following: 1) Pass option use_label_encoder=False when constructing XGBClassifier object; and 2) Encode your labels (y) as integers starting with 0, i.e. 0, 1, 2, ..., [num_class - 1].\n",
            "  warnings.warn(label_encoder_deprecation_msg, UserWarning)\n"
          ]
        },
        {
          "name": "stdout",
          "output_type": "stream",
          "text": [
            "[21:05:01] WARNING: ../src/learner.cc:1115: Starting in XGBoost 1.3.0, the default evaluation metric used with the objective 'multi:softprob' was changed from 'merror' to 'mlogloss'. Explicitly set eval_metric if you'd like to restore the old behavior.\n",
            "[21:05:01] WARNING: ../src/learner.cc:1115: Starting in XGBoost 1.3.0, the default evaluation metric used with the objective 'multi:softprob' was changed from 'merror' to 'mlogloss'. Explicitly set eval_metric if you'd like to restore the old behavior.\n"
          ]
        }
      ],
      "source": [
        "from sklearn.model_selection import cross_val_score\n",
        "accuracy_lr = cross_val_score(estimator = classifier_lr, X = X_train, y = Y_train, cv = 10)\n",
        "accuracy_rf = cross_val_score(estimator = classifier_rf, X = X_train, y = Y_train, cv = 10)\n",
        "accuracy_gbc = cross_val_score(estimator = classifier_gbc, X = X_train, y = Y_train, cv = 10)\n",
        "accuracy_dt = cross_val_score(estimator = classifier_dt, X = X_train, y = Y_train, cv = 10)\n",
        "accuracy_svc = cross_val_score(estimator = classifier_svc, X = X_train, y = Y_train, cv = 10)\n",
        "accuracy_knn = cross_val_score(estimator = classifier_knn, X = X_train, y = Y_train, cv = 10)\n",
        "accuracy_nbc = cross_val_score(estimator = classifier_nbc, X = X_train, y = Y_train, cv = 10)\n",
        "accuracy_xgb = cross_val_score(estimator = classifier_xgb, X = X_train, y = Y_train, cv = 10)"
      ],
      "id": "tK6oN6VQRT8K"
    },
    {
      "cell_type": "code",
      "execution_count": null,
      "metadata": {
        "id": "3KwISB0GRT8K",
        "outputId": "4a0c63d5-874b-4fc3-836b-35c6dc6347bb"
      },
      "outputs": [
        {
          "name": "stdout",
          "output_type": "stream",
          "text": [
            "LogReg Accuracy = 71.71 %  Strandard Deviation = 4.55 %\n",
            "RandFore Accuracy = 80.29 %  Strandard Deviation = 5.95 %\n",
            "GBC Accuracy = 80.86 %  Strandard Deviation = 4.48 %\n",
            "DT Accuracy = 75.14 %  Strandard Deviation = 3.21 %\n",
            "SVC Accuracy = 72.00 %  Strandard Deviation = 3.21 %\n",
            "KNN Accuracy = 62.00 %  Strandard Deviation = 4.10 %\n",
            "NBC Accuracy = 75.57 %  Strandard Deviation = 3.41 %\n",
            "XGB Accuracy = 79.43 %  Strandard Deviation = 4.20 %\n"
          ]
        }
      ],
      "source": [
        "print('LogReg Accuracy = {:.2f} %'.format(accuracy_lr.mean()*100)+'  '+'Strandard Deviation = {:.2f} %'.format(accuracy_lr.std()*100))\n",
        "print('RandFore Accuracy = {:.2f} %'.format(accuracy_rf.mean()*100)+'  '+'Strandard Deviation = {:.2f} %'.format(accuracy_rf.std()*100))\n",
        "print('GBC Accuracy = {:.2f} %'.format(accuracy_gbc.mean()*100)+'  '+'Strandard Deviation = {:.2f} %'.format(accuracy_gbc.std()*100))\n",
        "print('DT Accuracy = {:.2f} %'.format(accuracy_dt.mean()*100)+'  '+'Strandard Deviation = {:.2f} %'.format(accuracy_dt.std()*100))\n",
        "print('SVC Accuracy = {:.2f} %'.format(accuracy_svc.mean()*100)+'  '+'Strandard Deviation = {:.2f} %'.format(accuracy_svc.std()*100))\n",
        "print('KNN Accuracy = {:.2f} %'.format(accuracy_knn.mean()*100)+'  '+'Strandard Deviation = {:.2f} %'.format(accuracy_knn.std()*100))\n",
        "print('NBC Accuracy = {:.2f} %'.format(accuracy_nbc.mean()*100)+'  '+'Strandard Deviation = {:.2f} %'.format(accuracy_nbc.std()*100))\n",
        "print('XGB Accuracy = {:.2f} %'.format(accuracy_xgb.mean()*100)+'  '+'Strandard Deviation = {:.2f} %'.format(accuracy_xgb.std()*100))"
      ],
      "id": "3KwISB0GRT8K"
    },
    {
      "cell_type": "code",
      "execution_count": null,
      "metadata": {
        "id": "xf-Zc7MuRT8L",
        "outputId": "d2f732ed-7ad6-4f67-92f2-efb54bf54a92"
      },
      "outputs": [
        {
          "data": {
            "text/plain": [
              "(870, 22)"
            ]
          },
          "execution_count": 74,
          "metadata": {},
          "output_type": "execute_result"
        }
      ],
      "source": [
        "weather_data.shape"
      ],
      "id": "xf-Zc7MuRT8L"
    },
    {
      "cell_type": "code",
      "execution_count": null,
      "metadata": {
        "id": "_UINQCCMRT8L",
        "outputId": "04b64891-d7f3-4841-95ac-682616e2e215"
      },
      "outputs": [
        {
          "data": {
            "text/plain": [
              "<AxesSubplot:xlabel='weather', ylabel='count'>"
            ]
          },
          "execution_count": 75,
          "metadata": {},
          "output_type": "execute_result"
        },
        {
          "data": {
            "image/png": "[encoded data removed]",
            "text/plain": [
              "<Figure size 432x288 with 1 Axes>"
            ]
          },
          "metadata": {
            "needs_background": "light"
          },
          "output_type": "display_data"
        }
      ],
      "source": [
        "sns.countplot(data=weather_data, x='weather')"
      ],
      "id": "_UINQCCMRT8L"
    },
    {
      "cell_type": "code",
      "execution_count": null,
      "metadata": {
        "id": "xit8KMh7RT8L",
        "outputId": "038db09c-6df9-4585-9805-ac8eacb6afaf"
      },
      "outputs": [
        {
          "name": "stdout",
          "output_type": "stream",
          "text": [
            "LogisticRregression\n",
            "               precision    recall  f1-score   support\n",
            "\n",
            "      Cloudy       0.58      0.57      0.58        54\n",
            "     Drizzle       0.68      0.51      0.58        41\n",
            "        Rain       0.64      0.45      0.53        31\n",
            "         Sun       0.49      0.69      0.58        49\n",
            "\n",
            "    accuracy                           0.57       175\n",
            "   macro avg       0.60      0.56      0.57       175\n",
            "weighted avg       0.59      0.57      0.57       175\n",
            "\n",
            "RandomForest\n",
            "               precision    recall  f1-score   support\n",
            "\n",
            "      Cloudy       0.68      0.74      0.71        54\n",
            "     Drizzle       0.66      0.61      0.63        41\n",
            "        Rain       0.62      0.48      0.55        31\n",
            "         Sun       0.59      0.65      0.62        49\n",
            "\n",
            "    accuracy                           0.64       175\n",
            "   macro avg       0.64      0.62      0.63       175\n",
            "weighted avg       0.64      0.64      0.64       175\n",
            "\n",
            "GradientBoostingClassifier\n",
            "               precision    recall  f1-score   support\n",
            "\n",
            "      Cloudy       0.73      0.74      0.73        54\n",
            "     Drizzle       0.68      0.51      0.58        41\n",
            "        Rain       0.58      0.58      0.58        31\n",
            "         Sun       0.60      0.71      0.65        49\n",
            "\n",
            "    accuracy                           0.65       175\n",
            "   macro avg       0.65      0.64      0.64       175\n",
            "weighted avg       0.65      0.65      0.65       175\n",
            "\n",
            "DecisionTreeClassifier\n",
            "               precision    recall  f1-score   support\n",
            "\n",
            "      Cloudy       0.69      0.61      0.65        54\n",
            "     Drizzle       0.62      0.49      0.55        41\n",
            "        Rain       0.53      0.52      0.52        31\n",
            "         Sun       0.54      0.71      0.61        49\n",
            "\n",
            "    accuracy                           0.59       175\n",
            "   macro avg       0.60      0.58      0.58       175\n",
            "weighted avg       0.60      0.59      0.59       175\n",
            "\n",
            "SupportingVectorClassifer\n",
            "               precision    recall  f1-score   support\n",
            "\n",
            "      Cloudy       0.65      0.85      0.74        54\n",
            "     Drizzle       0.66      0.46      0.54        41\n",
            "        Rain       0.61      0.45      0.52        31\n",
            "         Sun       0.62      0.65      0.63        49\n",
            "\n",
            "    accuracy                           0.63       175\n",
            "   macro avg       0.63      0.60      0.61       175\n",
            "weighted avg       0.63      0.63      0.62       175\n",
            "\n",
            "KNeighborsClassifer\n",
            "               precision    recall  f1-score   support\n",
            "\n",
            "      Cloudy       0.61      0.89      0.72        54\n",
            "     Drizzle       0.64      0.44      0.52        41\n",
            "        Rain       0.59      0.42      0.49        31\n",
            "         Sun       0.61      0.57      0.59        49\n",
            "\n",
            "    accuracy                           0.61       175\n",
            "   macro avg       0.61      0.58      0.58       175\n",
            "weighted avg       0.61      0.61      0.60       175\n",
            "\n",
            "NaiveBayesClassifer\n",
            "               precision    recall  f1-score   support\n",
            "\n",
            "      Cloudy       0.00      0.00      0.00        54\n",
            "     Drizzle       0.21      0.76      0.32        41\n",
            "        Rain       0.60      0.39      0.47        31\n",
            "         Sun       0.00      0.00      0.00        49\n",
            "\n",
            "    accuracy                           0.25       175\n",
            "   macro avg       0.20      0.29      0.20       175\n",
            "weighted avg       0.15      0.25      0.16       175\n",
            "\n",
            "XGBoostClassifier\n",
            "               precision    recall  f1-score   support\n",
            "\n",
            "      Cloudy       0.71      0.65      0.68        54\n",
            "     Drizzle       0.62      0.49      0.55        41\n",
            "        Rain       0.53      0.52      0.52        31\n",
            "         Sun       0.56      0.73      0.64        49\n",
            "\n",
            "    accuracy                           0.61       175\n",
            "   macro avg       0.61      0.60      0.60       175\n",
            "weighted avg       0.62      0.61      0.61       175\n",
            "\n"
          ]
        }
      ],
      "source": [
        "from sklearn.metrics import classification_report\n",
        "print('LogisticRregression\\n',classification_report(Y_test,Y_pred_lr, zero_division=0))\n",
        "print('RandomForest\\n',classification_report(Y_test,Y_pred_rf, zero_division=0))\n",
        "print('GradientBoostingClassifier\\n',classification_report(Y_test,Y_pred_gbc, zero_division=0))\n",
        "print('DecisionTreeClassifier\\n',classification_report(Y_test,Y_pred_dt, zero_division=0))\n",
        "print('SupportingVectorClassifer\\n',classification_report(Y_test,Y_pred_svc, zero_division=0))\n",
        "print('KNeighborsClassifer\\n',classification_report(Y_test,Y_pred_knn, zero_division=0))\n",
        "print('NaiveBayesClassifer\\n',classification_report(Y_test,Y_pred_nbc, zero_division=0))\n",
        "print('XGBoostClassifier\\n',classification_report(Y_test,Y_pred_xgb, zero_division=0))"
      ],
      "id": "xit8KMh7RT8L"
    },
    {
      "cell_type": "code",
      "execution_count": null,
      "metadata": {
        "id": "XEBMY-4JRT8L",
        "outputId": "278525e3-61e8-4119-ec9c-872b95fd852d"
      },
      "outputs": [
        {
          "data": {
            "text/plain": [
              "array(['Cloudy', 'Drizzle', 'Rain', 'Sun'], dtype=object)"
            ]
          },
          "execution_count": 168,
          "metadata": {},
          "output_type": "execute_result"
        }
      ],
      "source": [
        "classes = classifier_dt.classes_\n",
        "\n",
        "classes"
      ],
      "id": "XEBMY-4JRT8L"
    },
    {
      "cell_type": "code",
      "execution_count": null,
      "metadata": {
        "id": "pB6XHSEmRT8L"
      },
      "outputs": [],
      "source": [
        "def calculate_tpr_fpr(y_real, y_pred):\n",
        "    '''\n",
        "    Calculates the True Positive Rate (tpr) and the True Negative Rate (fpr) based on real and predicted observations\n",
        "    \n",
        "    Args:\n",
        "        y_real: The list or series with the real classes\n",
        "        y_pred: The list or series with the predicted classes\n",
        "        \n",
        "    Returns:\n",
        "        tpr: The True Positive Rate of the classifier\n",
        "        fpr: The False Positive Rate of the classifier\n",
        "    '''\n",
        "    \n",
        "    # Calculates the confusion matrix and recover each element\n",
        "    cm = confusion_matrix(y_real, y_pred)\n",
        "    TN = cm[0, 0]\n",
        "    FP = cm[0, 1]\n",
        "    FN = cm[1, 0]\n",
        "    TP = cm[1, 1]\n",
        "    \n",
        "    # Calculates tpr and fpr\n",
        "    tpr =  TP/(TP + FN) # sensitivity - true positive rate\n",
        "    fpr = 1 - TN/(TN+FP) # 1-specificity - false positive rate\n",
        "    \n",
        "    return tpr, fpr"
      ],
      "id": "pB6XHSEmRT8L"
    },
    {
      "cell_type": "code",
      "execution_count": null,
      "metadata": {
        "id": "PGW2dpjgRT8M"
      },
      "outputs": [],
      "source": [
        "def get_all_roc_coordinates(y_real, y_proba):\n",
        "    '''\n",
        "    Calculates all the ROC Curve coordinates (tpr and fpr) by considering each point as a treshold for the predicion of the class.\n",
        "    \n",
        "    Args:\n",
        "        y_real: The list or series with the real classes.\n",
        "        y_proba: The array with the probabilities for each class, obtained by using the `.predict_proba()` method.\n",
        "        \n",
        "    Returns:\n",
        "        tpr_list: The list of TPRs representing each threshold.\n",
        "        fpr_list: The list of FPRs representing each threshold.\n",
        "    '''\n",
        "    tpr_list = [0]\n",
        "    fpr_list = [0]\n",
        "    for i in range(len(y_proba)):\n",
        "        threshold = y_proba[i]\n",
        "        y_pred = y_proba >= threshold\n",
        "        tpr, fpr = calculate_tpr_fpr(y_real, y_pred)\n",
        "        tpr_list.append(tpr)\n",
        "        fpr_list.append(fpr)\n",
        "    return tpr_list, fpr_list"
      ],
      "id": "PGW2dpjgRT8M"
    },
    {
      "cell_type": "code",
      "execution_count": null,
      "metadata": {
        "id": "KpMVBb7xRT8M"
      },
      "outputs": [],
      "source": [
        "def plot_roc_curve(tpr, fpr, scatter = True, ax = None):\n",
        "    '''\n",
        "    Plots the ROC Curve by using the list of coordinates (tpr and fpr).\n",
        "    \n",
        "    Args:\n",
        "        tpr: The list of TPRs representing each coordinate.\n",
        "        fpr: The list of FPRs representing each coordinate.\n",
        "        scatter: When True, the points used on the calculation will be plotted with the line (default = True).\n",
        "    '''\n",
        "    if ax == None:\n",
        "        plt.figure(figsize = (5, 5))\n",
        "        ax = plt.axes()\n",
        "    \n",
        "    if scatter:\n",
        "        sns.scatterplot(x = fpr, y = tpr, ax = ax)\n",
        "    sns.lineplot(x = fpr, y = tpr, ax = ax)\n",
        "    sns.lineplot(x = [0, 1], y = [0, 1], color = 'green', ax = ax)\n",
        "    plt.xlim(-0.05, 1.05)\n",
        "    plt.ylim(-0.05, 1.05)\n",
        "    plt.xlabel(\"False Positive Rate\")\n",
        "    plt.ylabel(\"True Positive Rate\")"
      ],
      "id": "KpMVBb7xRT8M"
    },
    {
      "cell_type": "code",
      "execution_count": null,
      "metadata": {
        "id": "R-rwirTgRT8M",
        "outputId": "466757b9-e8f1-4a60-a77c-855cdaf1a10c"
      },
      "outputs": [
        {
          "data": {
            "text/plain": [
              "array(['Cloudy', 'Drizzle', 'Rain', 'Sun'], dtype=object)"
            ]
          },
          "execution_count": 172,
          "metadata": {},
          "output_type": "execute_result"
        }
      ],
      "source": [
        "classes = classifier_dt.classes_\n",
        "\n",
        "classes"
      ],
      "id": "R-rwirTgRT8M"
    },
    {
      "cell_type": "code",
      "execution_count": null,
      "metadata": {
        "id": "HGS6nqtjRT8M",
        "outputId": "0af4c224-7d13-4683-ea4f-11df3c0ccac4"
      },
      "outputs": [
        {
          "name": "stderr",
          "output_type": "stream",
          "text": [
            "/Users/yiqing/Anaconda/anaconda3/envs/coursera/lib/python3.8/site-packages/xgboost/sklearn.py:1224: UserWarning: The use of label encoder in XGBClassifier is deprecated and will be removed in a future release. To remove this warning, do the following: 1) Pass option use_label_encoder=False when constructing XGBClassifier object; and 2) Encode your labels (y) as integers starting with 0, i.e. 0, 1, 2, ..., [num_class - 1].\n",
            "  warnings.warn(label_encoder_deprecation_msg, UserWarning)\n"
          ]
        },
        {
          "name": "stdout",
          "output_type": "stream",
          "text": [
            "[20:54:13] WARNING: ../src/learner.cc:1115: Starting in XGBoost 1.3.0, the default evaluation metric used with the objective 'multi:softprob' was changed from 'merror' to 'mlogloss'. Explicitly set eval_metric if you'd like to restore the old behavior.\n"
          ]
        }
      ],
      "source": [
        "y_proba = classifier_xgb.fit(X_train,Y_train).predict_proba(X_test)"
      ],
      "id": "HGS6nqtjRT8M"
    },
    {
      "cell_type": "code",
      "execution_count": null,
      "metadata": {
        "id": "TVkJM-O6RT8M",
        "outputId": "9fed9c18-1a55-4d4c-e972-37749afce41a"
      },
      "outputs": [
        {
          "name": "stdout",
          "output_type": "stream",
          "text": [
            "[21:05:21] WARNING: ../src/learner.cc:1115: Starting in XGBoost 1.3.0, the default evaluation metric used with the objective 'multi:softprob' was changed from 'merror' to 'mlogloss'. Explicitly set eval_metric if you'd like to restore the old behavior.\n"
          ]
        },
        {
          "name": "stderr",
          "output_type": "stream",
          "text": [
            "/Users/yiqing/Anaconda/anaconda3/envs/coursera/lib/python3.8/site-packages/xgboost/sklearn.py:1224: UserWarning: The use of label encoder in XGBClassifier is deprecated and will be removed in a future release. To remove this warning, do the following: 1) Pass option use_label_encoder=False when constructing XGBClassifier object; and 2) Encode your labels (y) as integers starting with 0, i.e. 0, 1, 2, ..., [num_class - 1].\n",
            "  warnings.warn(label_encoder_deprecation_msg, UserWarning)\n"
          ]
        }
      ],
      "source": [
        "Y_prob_lr = classifier_lr.fit(X_train,Y_train).predict_proba(X_test)\n",
        "Y_prob_rf = classifier_rf.fit(X_train, Y_train).predict_proba(X_test)\n",
        "Y_prob_gbc = classifier_gbc.fit(X_train, Y_train).predict_proba(X_test)\n",
        "Y_prob_dt = classifier_dt.fit(X_train,Y_train).predict_proba(X_test)\n",
        "Y_prob_svc = classifier_svc.fit(X_train, Y_train).predict_proba(X_test)\n",
        "Y_prob_knn = classifier_knn.fit(X_train, Y_train).predict_proba(X_test)\n",
        "Y_prob_nbc = classifier_nbc.fit(X_train, Y_train).predict_proba(X_test)\n",
        "Y_prob_xgb = classifier_xgb.fit(X_train, Y_train).predict_proba(X_test)"
      ],
      "id": "TVkJM-O6RT8M"
    },
    {
      "cell_type": "code",
      "execution_count": null,
      "metadata": {
        "id": "SRWOhc0jRT8N",
        "outputId": "5de0c43b-1d9a-4e4c-9854-a3a63e2b4c88"
      },
      "outputs": [
        {
          "name": "stdout",
          "output_type": "stream",
          "text": [
            "[[5.60990691e-01 6.10616291e-03 2.50474690e-03 4.30398345e-01]\n",
            " [2.22592542e-04 7.16590264e-04 2.31178143e-04 9.98829663e-01]\n",
            " [2.03110860e-03 9.85462427e-01 1.12870140e-02 1.21941313e-03]\n",
            " [4.29367705e-04 9.96866167e-01 2.22945050e-03 4.74945031e-04]\n",
            " [1.68226281e-04 9.97481883e-01 1.94148975e-03 4.08424152e-04]\n",
            " [3.26183415e-03 4.10954177e-04 7.67017307e-04 9.95560169e-01]\n",
            " [3.03988322e-03 1.84890872e-04 1.83196098e-04 9.96592045e-01]\n",
            " [3.60130053e-03 9.89199996e-01 6.86076935e-03 3.37967591e-04]\n",
            " [8.03646399e-04 7.77159750e-01 2.20224395e-01 1.81215256e-03]\n",
            " [3.64846637e-04 8.66807520e-01 1.32020354e-01 8.07205157e-04]\n",
            " [9.95664060e-01 3.71373753e-04 1.60657146e-04 3.80392093e-03]\n",
            " [6.24530949e-05 9.98066366e-01 1.75487529e-03 1.16344192e-04]\n",
            " [2.23020194e-04 7.27848336e-02 9.26549733e-01 4.42365039e-04]\n",
            " [7.64016271e-01 1.54561899e-03 2.75660842e-03 2.31681511e-01]\n",
            " [3.94264096e-03 1.10421341e-03 1.22660073e-04 9.94830549e-01]\n",
            " [9.66700256e-01 2.56387721e-04 1.76171030e-04 3.28672230e-02]\n",
            " [1.18340377e-03 1.15037328e-02 9.87145185e-01 1.67703794e-04]\n",
            " [1.13418314e-03 8.53954256e-02 9.11989987e-01 1.48040382e-03]\n",
            " [9.95816767e-01 2.72176607e-04 8.07796969e-05 3.83029366e-03]\n",
            " [9.06356931e-01 5.80552325e-04 2.08568745e-04 9.28539038e-02]\n",
            " [2.26476288e-04 3.44546919e-04 1.43377387e-04 9.99285638e-01]\n",
            " [9.40950096e-01 5.75070269e-04 6.74282433e-04 5.78005575e-02]\n",
            " [1.14590488e-03 5.47369540e-01 4.47866023e-01 3.61850578e-03]\n",
            " [9.83436346e-01 2.70678371e-04 9.38701269e-05 1.61990467e-02]\n",
            " [1.66867592e-03 1.74357802e-01 8.23248863e-01 7.24654121e-04]\n",
            " [1.41647222e-04 3.12899210e-04 6.29205897e-05 9.99482512e-01]\n",
            " [4.44896985e-03 1.56410818e-03 8.21131165e-04 9.93165791e-01]\n",
            " [9.84091222e-01 4.51253436e-04 1.35090886e-04 1.53224897e-02]\n",
            " [6.51985290e-04 9.95816648e-01 3.39375623e-03 1.37609430e-04]\n",
            " [1.96958613e-03 2.16393135e-04 7.36426737e-05 9.97740388e-01]\n",
            " [1.55506209e-01 9.65618412e-04 4.86685254e-04 8.43041420e-01]\n",
            " [5.83312940e-04 5.52635698e-04 5.34310238e-05 9.98810649e-01]\n",
            " [9.98085499e-01 4.35510046e-05 4.01786529e-05 1.83079473e-03]\n",
            " [5.32903895e-03 3.03973287e-01 6.89926207e-01 7.71450985e-04]\n",
            " [5.69858821e-03 1.56537473e-01 8.36260617e-01 1.50329573e-03]\n",
            " [4.89455730e-01 2.48481659e-03 1.14190695e-03 5.06917596e-01]\n",
            " [8.81967604e-01 5.05705655e-04 2.42563387e-04 1.17284194e-01]\n",
            " [1.21106384e-02 2.14278596e-04 4.33307105e-05 9.87631738e-01]\n",
            " [4.96477529e-04 7.38537371e-01 2.60696232e-01 2.69931188e-04]\n",
            " [1.48867851e-03 1.95554006e-04 4.44540092e-05 9.98271346e-01]\n",
            " [9.97484922e-01 9.79465913e-05 5.41463123e-05 2.36293417e-03]\n",
            " [6.75443793e-03 8.81778657e-01 1.10214554e-01 1.25237647e-03]\n",
            " [9.57000911e-01 3.59146652e-04 1.72974600e-04 4.24669124e-02]\n",
            " [1.61342486e-03 4.02089506e-02 9.56800520e-01 1.37714494e-03]\n",
            " [2.08661339e-04 1.20038014e-04 3.17451020e-04 9.99353826e-01]\n",
            " [1.06889440e-03 1.23064662e-03 7.62980053e-05 9.97624218e-01]\n",
            " [4.32137778e-04 2.74239428e-04 2.86321505e-04 9.99007285e-01]\n",
            " [2.54224124e-03 4.48495004e-04 4.69580089e-04 9.96539712e-01]\n",
            " [4.14280308e-04 4.98622596e-01 5.00061452e-01 9.01665189e-04]\n",
            " [3.81931488e-04 9.23206061e-02 9.03918147e-01 3.37927230e-03]\n",
            " [2.69266806e-04 7.94887263e-03 9.91531909e-01 2.49903736e-04]\n",
            " [7.77621579e-04 1.42992401e-04 2.37981785e-05 9.99055564e-01]\n",
            " [1.25497580e-04 2.01307965e-04 9.00681043e-05 9.99583185e-01]\n",
            " [5.32031775e-01 1.64793909e-03 1.80256451e-04 4.66140032e-01]\n",
            " [2.48848170e-04 7.86885619e-04 9.98903275e-01 6.10366915e-05]\n",
            " [8.59825639e-04 8.94889701e-04 2.29602781e-04 9.98015642e-01]\n",
            " [4.41466575e-04 2.01290226e-04 2.70677210e-05 9.99330163e-01]\n",
            " [9.96612370e-01 1.70868050e-04 1.42589401e-04 3.07413400e-03]\n",
            " [9.83198941e-01 1.80822768e-04 6.50562870e-05 1.65552069e-02]\n",
            " [4.89542435e-04 9.78862518e-05 3.38988575e-05 9.99378681e-01]\n",
            " [2.71930156e-04 9.36794817e-01 6.24899082e-02 4.43306490e-04]\n",
            " [1.04039011e-03 1.41157783e-04 1.99550588e-04 9.98618841e-01]\n",
            " [1.57042654e-04 1.40823834e-02 9.85410452e-01 3.50070681e-04]\n",
            " [4.90833353e-03 1.17420603e-03 1.09273868e-04 9.93808210e-01]\n",
            " [2.73966929e-03 2.68451869e-04 9.46022192e-05 9.96897221e-01]\n",
            " [3.38052196e-04 7.69033140e-05 3.90050154e-05 9.99545991e-01]\n",
            " [6.20956474e-04 6.43995941e-01 3.54976773e-01 4.06310894e-04]\n",
            " [1.33472390e-03 1.07576191e-01 8.89200568e-01 1.88850332e-03]\n",
            " [2.54247850e-03 2.66799674e-04 5.58136730e-04 9.96632636e-01]\n",
            " [1.82407396e-03 5.72432647e-04 1.93347252e-04 9.97410119e-01]\n",
            " [8.65096692e-04 2.85278529e-01 7.12412477e-01 1.44388364e-03]\n",
            " [3.57289391e-04 2.26855539e-02 9.76639450e-01 3.17677506e-04]\n",
            " [7.82265514e-03 8.78396988e-01 1.12575896e-01 1.20440207e-03]\n",
            " [9.55425143e-01 1.06916495e-03 3.03536159e-04 4.32021134e-02]\n",
            " [9.83232200e-01 2.50594137e-04 1.47998813e-04 1.63691621e-02]\n",
            " [2.29242607e-03 1.56675756e-04 5.83651672e-05 9.97492552e-01]\n",
            " [8.45573962e-01 1.87994563e-04 1.11807894e-03 1.53119922e-01]\n",
            " [1.04283383e-04 3.45860701e-03 9.96055126e-01 3.81992984e-04]\n",
            " [8.45317483e-01 3.06768896e-04 2.56233761e-04 1.54119521e-01]\n",
            " [3.00837535e-04 4.48079035e-02 9.54355896e-01 5.35414030e-04]\n",
            " [2.53527075e-01 1.28657289e-03 3.45917972e-04 7.44840443e-01]\n",
            " [9.12825402e-04 9.17563915e-01 8.06942359e-02 8.28984252e-04]\n",
            " [1.85075542e-03 3.27835296e-04 5.15139196e-04 9.97306228e-01]\n",
            " [2.88367093e-01 8.21570749e-04 4.98095469e-04 7.10313201e-01]\n",
            " [9.04006958e-01 9.35511955e-04 5.43829286e-04 9.45136473e-02]\n",
            " [1.67938888e-01 6.40447310e-04 3.00627667e-04 8.31120014e-01]\n",
            " [6.56644762e-01 5.41502843e-03 2.11009081e-03 3.35830122e-01]\n",
            " [9.32199419e-01 1.13244995e-03 3.63768457e-04 6.63044304e-02]\n",
            " [3.80297929e-01 6.84696832e-04 3.18128412e-04 6.18699193e-01]\n",
            " [7.58833528e-01 2.67144921e-03 6.62572973e-04 2.37832427e-01]\n",
            " [1.33481110e-04 5.70269674e-03 9.93924677e-01 2.39134679e-04]\n",
            " [1.86274026e-03 2.27178942e-04 8.69803844e-05 9.97823119e-01]\n",
            " [6.06540544e-03 9.44810331e-01 4.84008379e-02 7.23382167e-04]\n",
            " [8.99396777e-01 3.30679468e-04 6.04100525e-04 9.96684730e-02]\n",
            " [1.91734580e-04 9.93717074e-01 5.65884961e-03 4.32344765e-04]\n",
            " [5.15912485e-04 5.21831930e-01 4.76404816e-01 1.24740787e-03]\n",
            " [1.98495560e-04 8.48597556e-05 2.06333134e-05 9.99696016e-01]\n",
            " [2.15739448e-04 2.35173199e-02 9.75752652e-01 5.14248502e-04]\n",
            " [1.34892181e-01 5.93883859e-04 5.32017555e-04 8.63981962e-01]\n",
            " [4.47166531e-04 9.89680231e-01 9.25018266e-03 6.22413820e-04]\n",
            " [9.34362531e-01 8.41074623e-04 7.18614843e-04 6.40777051e-02]\n",
            " [1.44452408e-01 4.51372791e-04 4.06414940e-04 8.54689837e-01]\n",
            " [8.93520117e-01 1.65946211e-03 3.13821540e-04 1.04506604e-01]\n",
            " [4.78171889e-04 8.17602932e-01 1.81083962e-01 8.34920153e-04]\n",
            " [1.37444615e-04 9.64782238e-01 3.46232988e-02 4.56973357e-04]\n",
            " [3.15024867e-03 2.16181427e-01 7.79853225e-01 8.15155974e-04]\n",
            " [1.05799176e-04 9.98276353e-01 1.34224154e-03 2.75653118e-04]\n",
            " [6.36370212e-04 3.25558871e-01 6.70970857e-01 2.83393613e-03]\n",
            " [3.13650613e-04 9.92823005e-01 6.62509073e-03 2.38173554e-04]\n",
            " [2.62537156e-03 3.83637991e-04 5.40638466e-05 9.96936917e-01]\n",
            " [2.05030944e-03 1.86434700e-04 4.61508389e-05 9.97717142e-01]\n",
            " [6.18501659e-03 9.66251373e-01 2.53924225e-02 2.17122887e-03]\n",
            " [4.97784094e-05 3.39556718e-05 1.14087279e-05 9.99904871e-01]\n",
            " [9.91224289e-01 2.57381675e-04 2.17984169e-04 8.30041617e-03]\n",
            " [2.60455668e-01 1.18556502e-03 9.49032779e-04 7.37409711e-01]\n",
            " [2.11726481e-04 3.00364763e-01 6.98277831e-01 1.14566484e-03]\n",
            " [9.31943595e-01 7.63131422e-04 3.34299111e-04 6.69589937e-02]\n",
            " [2.23413008e-04 7.13514019e-05 5.33614038e-05 9.99651909e-01]\n",
            " [4.12078295e-03 2.89132789e-04 2.44667346e-04 9.95345414e-01]\n",
            " [2.33335164e-03 9.75650728e-01 2.11085957e-02 9.07344627e-04]\n",
            " [2.46319361e-03 4.82643285e-04 6.45217951e-05 9.96989608e-01]\n",
            " [6.86166051e-04 1.47909348e-04 3.10394862e-05 9.99134958e-01]\n",
            " [2.29622819e-04 1.09603396e-04 2.20731774e-04 9.99440014e-01]\n",
            " [1.21373660e-03 1.40225005e-04 8.14709929e-05 9.98564541e-01]\n",
            " [2.84237292e-04 9.84258771e-01 1.52184451e-02 2.38554436e-04]\n",
            " [2.32195971e-03 9.84796524e-01 1.24509651e-02 4.30547283e-04]\n",
            " [3.00485338e-03 9.88095284e-01 8.43247771e-03 4.67408856e-04]\n",
            " [2.94083543e-03 2.94424914e-04 1.03804385e-04 9.96660948e-01]\n",
            " [8.38959217e-01 5.46692230e-04 2.97454826e-04 1.60196677e-01]\n",
            " [9.89906967e-01 9.21110332e-05 3.89562250e-04 9.61139426e-03]\n",
            " [6.85261854e-04 1.15559218e-04 1.05950814e-04 9.99093294e-01]\n",
            " [2.67369120e-04 9.75875616e-01 2.32746843e-02 5.82352164e-04]\n",
            " [9.63700056e-01 8.54034733e-04 3.94369272e-04 3.50515395e-02]\n",
            " [1.88823047e-04 3.75873846e-04 3.16934631e-04 9.99118388e-01]\n",
            " [9.82153356e-01 1.53425455e-04 5.95713973e-05 1.76336989e-02]\n",
            " [1.01240294e-03 2.21811657e-04 9.89781402e-05 9.98666763e-01]\n",
            " [9.99462068e-01 2.69171669e-05 5.03844276e-05 4.60670213e-04]\n",
            " [3.89935412e-05 3.19635449e-03 9.96664226e-01 1.00367666e-04]\n",
            " [9.99086857e-01 1.26063664e-04 5.04648924e-05 7.36631162e-04]\n",
            " [1.78323872e-03 9.65138388e-05 1.14546579e-04 9.98005688e-01]\n",
            " [2.66335462e-03 6.27065951e-04 1.52590219e-04 9.96556997e-01]\n",
            " [5.48925091e-05 1.27556443e-03 9.98555481e-01 1.14036207e-04]\n",
            " [3.78418551e-03 3.01088177e-04 6.29318674e-05 9.95851755e-01]\n",
            " [8.60830885e-04 7.67119648e-03 9.91020143e-01 4.47879778e-04]\n",
            " [3.55517026e-04 8.33614320e-02 9.15848017e-01 4.35034366e-04]\n",
            " [1.18095923e-05 3.18708073e-04 9.99629259e-01 4.02315163e-05]\n",
            " [9.77042556e-01 4.96132707e-04 2.30295671e-04 2.22310554e-02]\n",
            " [9.02248621e-01 1.00992084e-03 3.25160479e-04 9.64162797e-02]\n",
            " [3.79575742e-03 2.67121533e-04 1.14741808e-04 9.95822430e-01]\n",
            " [9.95093942e-01 1.22022182e-04 2.58650543e-04 4.52534575e-03]\n",
            " [6.61773328e-03 5.52975297e-01 4.39631581e-01 7.75358465e-04]\n",
            " [9.60223973e-01 8.57535517e-04 2.87030998e-04 3.86314914e-02]\n",
            " [3.72410983e-01 3.69852554e-04 4.55309433e-04 6.26763821e-01]\n",
            " [9.94560182e-01 1.55855814e-04 6.75473493e-05 5.21640526e-03]\n",
            " [7.28814921e-04 5.25132537e-01 4.71456826e-01 2.68187374e-03]\n",
            " [1.89371262e-04 1.04017273e-01 8.95375848e-01 4.17483854e-04]\n",
            " [4.30797815e-01 4.65694175e-04 8.28552409e-04 5.67907929e-01]\n",
            " [2.43299198e-03 2.55224848e-04 1.11304107e-04 9.97200489e-01]\n",
            " [9.97049034e-01 1.29992695e-04 4.70269260e-05 2.77399085e-03]\n",
            " [9.84959662e-01 2.27065961e-04 2.06719880e-04 1.46065010e-02]\n",
            " [5.42849884e-04 1.22272642e-04 6.60920487e-05 9.99268830e-01]\n",
            " [7.46491179e-03 3.17388594e-01 6.73332155e-01 1.81436283e-03]\n",
            " [4.34305638e-01 4.04456077e-04 7.59617193e-04 5.64530313e-01]\n",
            " [4.75802604e-04 9.77124751e-01 2.09267866e-02 1.47270318e-03]\n",
            " [5.17199805e-04 2.39735236e-04 5.50087934e-05 9.99188006e-01]\n",
            " [6.39801292e-05 2.06240942e-03 9.97681975e-01 1.91623883e-04]\n",
            " [7.66390741e-01 5.02612675e-04 4.40623786e-04 2.32666001e-01]\n",
            " [9.76227522e-01 3.37397854e-04 9.90672561e-05 2.33359523e-02]\n",
            " [9.86589193e-01 6.94650458e-04 2.80703767e-04 1.24354316e-02]\n",
            " [3.85983381e-04 3.49593989e-04 7.83438009e-05 9.99186099e-01]\n",
            " [2.82141916e-03 5.06464159e-04 7.50747058e-05 9.96596992e-01]\n",
            " [9.95921731e-01 2.03141259e-04 7.58917740e-05 3.79920355e-03]\n",
            " [9.83314514e-01 1.77979848e-04 8.43430098e-05 1.64230969e-02]\n",
            " [9.79060411e-01 4.12475812e-04 2.07046774e-04 2.03200653e-02]\n",
            " [9.89424288e-01 3.85791762e-04 9.92230023e-04 9.19766445e-03]]\n"
          ]
        }
      ],
      "source": [
        "print(y_proba)"
      ],
      "id": "SRWOhc0jRT8N"
    },
    {
      "cell_type": "code",
      "execution_count": null,
      "metadata": {
        "id": "HRfsWDfWRT8N"
      },
      "outputs": [],
      "source": [
        "y_probas = [Y_prob_lr,Y_prob_rf,Y_prob_gbc,Y_prob_dt,Y_prob_svc,Y_prob_knn,Y_prob_nbc,Y_prob_xgb]"
      ],
      "id": "HRfsWDfWRT8N"
    },
    {
      "cell_type": "code",
      "execution_count": null,
      "metadata": {
        "id": "aNPlcW1ART8N",
        "outputId": "e10f84a8-23e3-4221-9b9c-7972884d532d"
      },
      "outputs": [
        {
          "data": {
            "image/png": "[encoded data removed]",
            "text/plain": [
              "<Figure size 1152x1152 with 32 Axes>"
            ]
          },
          "metadata": {
            "needs_background": "light"
          },
          "output_type": "display_data"
        }
      ],
      "source": [
        "plt.figure(figsize = (16, 16))\n",
        "bins = [i/20 for i in range(20)] + [1]\n",
        " #   roc_auc_ovr = {}\n",
        "count = 0\n",
        "for j in range(len(y_probas)):\n",
        "    \n",
        "    roc_auc_ovr = {}\n",
        "    for i in range(len(classes)):\n",
        "        # Gets the class\n",
        "        count += 1\n",
        "        c = classes[i]\n",
        "\n",
        "        # Prepares an auxiliar dataframe to help with the plots\n",
        "        df_aux = pd.DataFrame(X_test.copy())\n",
        "        df_aux['class'] = [1 if y == c else 0 for y in Y_test]\n",
        "        df_aux['prob'] = y_proba[:, i]\n",
        "        df_aux = df_aux.reset_index(drop = True)\n",
        "\n",
        "\n",
        "        # Calculates the ROC Coordinates and plots the ROC Curves\n",
        "        ax_bottom = plt.subplot(8, 4, count)\n",
        "        tpr, fpr = get_all_roc_coordinates(df_aux['class'], df_aux['prob'])\n",
        "        plot_roc_curve(tpr, fpr, scatter = False, ax = ax_bottom)\n",
        "        if count <=4: ax_bottom.set_title(c)\n",
        "\n",
        "        # Calculates the ROC AUC OvR\n",
        "        roc_auc_ovr[c] = roc_auc_score(df_aux['class'], df_aux['prob'])\n",
        "plt.tight_layout()"
      ],
      "id": "aNPlcW1ART8N"
    },
    {
      "cell_type": "code",
      "execution_count": null,
      "metadata": {
        "id": "fjXjSzVkRT8N"
      },
      "outputs": [],
      "source": [
        ""
      ],
      "id": "fjXjSzVkRT8N"
    },
    {
      "cell_type": "code",
      "execution_count": null,
      "metadata": {
        "id": "kfCMSQsMRT8N"
      },
      "outputs": [],
      "source": [
        ""
      ],
      "id": "kfCMSQsMRT8N"
    },
    {
      "cell_type": "code",
      "execution_count": null,
      "metadata": {
        "id": "SVVKqiQKRT8N"
      },
      "outputs": [],
      "source": [
        ""
      ],
      "id": "SVVKqiQKRT8N"
    }
  ],
  "metadata": {
    "kernelspec": {
      "display_name": "Python 3",
      "language": "python",
      "name": "python3"
    },
    "language_info": {
      "codemirror_mode": {
        "name": "ipython",
        "version": 3
      },
      "file_extension": ".py",
      "mimetype": "text/x-python",
      "name": "python",
      "nbconvert_exporter": "python",
      "pygments_lexer": "ipython3",
      "version": "3.8.5"
    },
    "colab": {
      "name": "FinialProject.ipynb",
      "provenance": [],
      "include_colab_link": true
    }
  },
  "nbformat": 4,
  "nbformat_minor": 5
}